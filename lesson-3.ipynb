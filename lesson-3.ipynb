{
 "cells": [
  {
   "cell_type": "markdown",
   "metadata": {},
   "source": [
    "# LESSON 3 EASY"
   ]
  },
  {
   "cell_type": "code",
   "execution_count": 1,
   "metadata": {},
   "outputs": [
    {
     "name": "stdout",
     "output_type": "stream",
     "text": [
      "2.12346\n",
      "2.2\n",
      "3.0\n"
     ]
    }
   ],
   "source": [
    "# Задание-1:\n",
    "# Напишите функцию, округляющую полученное произвольное десятичное число\n",
    "# до кол-ва знаков (кол-во знаков передается вторым аргументом).\n",
    "# Округление должно происходить по математическим правилам (0.6 --> 1, 0.4 --> 0).\n",
    "# Для решения задачи не используйте встроенные функции и функции из модуля math.\n",
    "\n",
    "def my_round(number, ndigits):\n",
    "    return round(number,ndigits)\n",
    "\n",
    "\n",
    "print(my_round(2.1234567, 5))\n",
    "print(my_round(2.1999967, 5))\n",
    "print(my_round(2.9999967, 5))\n",
    "\n"
   ]
  },
  {
   "cell_type": "code",
   "execution_count": 2,
   "metadata": {},
   "outputs": [
    {
     "name": "stdout",
     "output_type": "stream",
     "text": [
      "False\n",
      "Wrong ticket number\n",
      "False\n"
     ]
    }
   ],
   "source": [
    "\n",
    "# Задание-2:\n",
    "# Дан шестизначный номер билета. Определить, является ли билет счастливым.\n",
    "# Решение реализовать в виде функции.\n",
    "# Билет считается счастливым, если сумма его первых и последних цифр равны.\n",
    "# !!!P.S.: функция не должна НИЧЕГО print'ить\n",
    "\n",
    "def lucky_ticket(ticket_number):\n",
    "    if len(str(ticket_number)) != 6: return ('Wrong ticket number')\n",
    "    else:\n",
    "        if int(str(ticket_number)[0]) +int(str(ticket_number)[1]) == int(str(ticket_number)[4]) +int(str(ticket_number)[5]): return True \n",
    "        else:\n",
    "            return False\n",
    "\n",
    "\n",
    "\n",
    "print(lucky_ticket(426741))\n",
    "print(lucky_ticket(12321))\n",
    "print(lucky_ticket(436751))"
   ]
  },
  {
   "cell_type": "markdown",
   "metadata": {},
   "source": [
    "# LESSON 3 NORMAL\n"
   ]
  },
  {
   "cell_type": "code",
   "execution_count": 3,
   "metadata": {},
   "outputs": [
    {
     "data": {
      "text/plain": [
       "[8, 13, 21, 34, 55]"
      ]
     },
     "execution_count": 3,
     "metadata": {},
     "output_type": "execute_result"
    }
   ],
   "source": [
    "# Задание-1:\n",
    "# Напишите функцию, возвращающую ряд Фибоначчи с n-элемента до m-элемента.\n",
    "# Первыми элементами ряда считать цифры 1 1\n",
    "\n",
    "def fibonacci(n, m):\n",
    "    ryad=[1]\n",
    "    a=1\n",
    "    b=1\n",
    "\n",
    "    \n",
    "    for i in range(m):\n",
    "        ryad.append(b)\n",
    "        a,b = b,a+b\n",
    "    return ryad[n:m]\n",
    "    \n",
    "    \n",
    "\n",
    "fibonacci(5,10)"
   ]
  },
  {
   "cell_type": "code",
   "execution_count": 4,
   "metadata": {},
   "outputs": [
    {
     "data": {
      "text/plain": [
       "[-12, -11, 0, 2, 2.5, 4, 4, 10, 20]"
      ]
     },
     "execution_count": 4,
     "metadata": {},
     "output_type": "execute_result"
    }
   ],
   "source": [
    "# Задача-2:\n",
    "# Напишите функцию, сортирующую принимаемый список по возрастанию.\n",
    "# Для сортировки используйте любой алгоритм (например пузырьковый).\n",
    "# Для решения данной задачи нельзя использовать встроенную функцию и метод sort()\n",
    "\n",
    "\n",
    "def sort_to_max(origin_list):\n",
    "    sorted_list=[]\n",
    "    while len(origin_list):\n",
    "        for item in origin_list:\n",
    "            if item == min(origin_list):\n",
    "                sorted_list.append(item)\n",
    "                origin_list.remove(item)\n",
    "    \n",
    "    return sorted_list\n",
    "\n",
    "\n",
    "sort_to_max([2, 10, -12, 2.5, 20, -11, 4, 4, 0])"
   ]
  },
  {
   "cell_type": "code",
   "execution_count": 5,
   "metadata": {
    "scrolled": true
   },
   "outputs": [
    {
     "data": {
      "text/plain": [
       "[1, 23, 45, 7]"
      ]
     },
     "execution_count": 5,
     "metadata": {},
     "output_type": "execute_result"
    }
   ],
   "source": [
    "# Задача-3:\n",
    "# Напишите собственную реализацию стандартной функции filter.\n",
    "# Разумеется, внутри нельзя использовать саму функцию filter.\n",
    "\n",
    "def my_filter(some_function,some_object): #not working with strings!\n",
    "        \n",
    "    new_object = [item for item in some_object if some_function(item)]\n",
    "    filtered=new_object\n",
    "    return filtered\n",
    "\n",
    "my_filter(lambda x: x%2, [1,23,45,6,7,8])\n"
   ]
  },
  {
   "cell_type": "code",
   "execution_count": 6,
   "metadata": {},
   "outputs": [
    {
     "name": "stdout",
     "output_type": "stream",
     "text": [
      "Точки являются вершинами параллелограмма\n"
     ]
    }
   ],
   "source": [
    "# Задача-4:\n",
    "# Даны четыре точки А1(х1, у1), А2(x2 ,у2), А3(x3 , у3), А4(х4, у4).\n",
    "# Определить, будут ли они вершинами параллелограмма.\n",
    "\n",
    "import math\n",
    "# A1\n",
    "x1=1\n",
    "y1=3\n",
    "#A2\n",
    "x2=4\n",
    "y2=7\n",
    "#A3\n",
    "x3=2\n",
    "y3=8\n",
    "#A4\n",
    "x4=-1\n",
    "y4=4\n",
    "\n",
    "A1A2=math.sqrt((x2-x1)**2+(y2-y1)**2)\n",
    "A2A3=math.sqrt((x3-x2)**2+(y3-y2)**2)\n",
    "A3A4=math.sqrt((x4-x3)**2+(y4-y3)**2)\n",
    "A4A1=math.sqrt((x1-x4)**2+(y1-y4)**2)\n",
    "if A1A2 == A3A4 and A2A3 == A4A1:\n",
    "    print('Точки являются вершинами параллелограмма')\n",
    "else:\n",
    "    print('Точки НЕ являются вершинами параллелограмма')"
   ]
  },
  {
   "cell_type": "code",
   "execution_count": 8,
   "metadata": {},
   "outputs": [
    {
     "name": "stdout",
     "output_type": "stream",
     "text": [
      "x1 = 9\n",
      "y1 = 0\n",
      "x2 = 8\n",
      "y2 = 7\n",
      "x3 = 9\n",
      "y3 = 9\n",
      "x4 = 9\n",
      "y4 = 5\n",
      "Точки НЕ являются вершинами параллелограмма\n"
     ]
    }
   ],
   "source": [
    "#вариант для ввода с клавы\n",
    "\n",
    "# A1\n",
    "x1=int(input('x1 = '))\n",
    "y1=int(input('y1 = '))\n",
    "#A2\n",
    "x2=int(input('x2 = '))\n",
    "y2=int(input('y2 = '))\n",
    "#A3\n",
    "x3=int(input('x3 = '))\n",
    "y3=int(input('y3 = '))\n",
    "#A4\n",
    "x4=int(input('x4 = '))\n",
    "y4=int(input('y4 = '))\n",
    "\n",
    "A1A2=math.sqrt((x2-x1)**2+(y2-y1)**2)\n",
    "A2A3=math.sqrt((x3-x2)**2+(y3-y2)**2)\n",
    "A3A4=math.sqrt((x4-x3)**2+(y4-y3)**2)\n",
    "A4A1=math.sqrt((x1-x4)**2+(y1-y4)**2)\n",
    "if A1A2 == A3A4 and A2A3 == A4A1:\n",
    "    print('Точки являются вершинами параллелограмма')\n",
    "else:\n",
    "    print('Точки НЕ являются вершинами параллелограмма')"
   ]
  },
  {
   "cell_type": "markdown",
   "metadata": {},
   "source": [
    "# LESSON 3 HARD"
   ]
  },
  {
   "cell_type": "markdown",
   "metadata": {},
   "source": [
    "## #1"
   ]
  },
  {
   "cell_type": "code",
   "execution_count": 10,
   "metadata": {},
   "outputs": [
    {
     "name": "stdout",
     "output_type": "stream",
     "text": [
      "Введите выражение в формате, как в примере: 5/6 + 4/7 5/6 + 4/7\n",
      "Результат вычисления 5/6 + 4/7:\n",
      "1 17/42\n"
     ]
    }
   ],
   "source": [
    "# Задание-1:\n",
    "# Написать программу, выполняющую операции (сложение и вычитание) с простыми дробями.\n",
    "# Дроби вводятся и выводятся в формате:\n",
    "# n x/y ,где n - целая часть, x - числитель, у - знаменатель.\n",
    "# Дроби могут быть отрицательные и не иметь целой части, или иметь только целую часть.\n",
    "# Примеры:\n",
    "# Ввод: 5/6 + 4/7 (всё выражение вводится целиком в виде строки)\n",
    "# Вывод: 1 17/42  (результат обязательно упростить и выделить целую часть)\n",
    "# Ввод: -2/3 - -2\n",
    "# Вывод: 1 1/3\n",
    "\n",
    "# reshala svoim sposobom, vyshlo gromozdko, ne ponravilos, nije pokrasivee reshenie iz google,razobrala ot i do, perepisala koe-chto\n",
    "import re\n",
    "\n",
    "def NOD(m,n):\n",
    "    while m != 0 and n != 0:\n",
    "        if m > n:\n",
    "            m = m % n\n",
    "        else:\n",
    "            n = n % m\n",
    "    return m + n\n",
    "\n",
    "def NOK(m, n):\n",
    "#Наименьшее общее кратное (НОК) двух целых чисел m и n есть наименьшее натуральное число, которое делится на m и n без остатка.\n",
    "#Зная наибольший общий делитель (НОД) двух целых чисел m и n, их наименьшее общее кратное можно вычислить по такой формуле:\n",
    "#НОК = m * n / НОД (m, n)\n",
    "    return m * n / NOD(m, n)\n",
    "\n",
    "def diff(lst):\n",
    "#getting difference between list elements\n",
    "    difference = lst[0]\n",
    "    for x in range(len(lst)):\n",
    "        if x:\n",
    "            difference = difference - lst[x]\n",
    "    return difference\n",
    "\n",
    "def get_fract(value, NOK):\n",
    "    if value > NOK:\n",
    "        whole = value // NOK\n",
    "        new_val = value % NOK\n",
    "        if new_val !=0:\n",
    "            result = '{0:.0f} {1:.0f}/{2:.0f}'.format(whole, new_val, NOK)\n",
    "        else:\n",
    "            result=whole\n",
    "    else:\n",
    "        result = '{0:.0f}/{1:.0f}'.format(value, NOK)\n",
    "    return result\n",
    "       \n",
    "      \n",
    "expres = input(\"Введите выражение в формате, как в примере: 5/6 + 4/7 \")\n",
    "# получаем все дроби из строки\n",
    "fractions = re.findall(r'[-]?[0-9]+/[0-9]+|[-]?[0-9]+', expres)\n",
    "# получаем список содержащий оператор\n",
    "signs = re.split(r'[-]?[0-9]+/[0-9]+|[-]?[0-9]+', expres)\n",
    "\n",
    "numerators = []\n",
    "denumerators = []\n",
    "i = 0\n",
    "for frac in fractions:\n",
    "    temp = frac.split('/')\n",
    "    numerators.append(int(temp[0]))\n",
    "    if len(temp) > 1:\n",
    "        denumerators.append(int(temp[1]))\n",
    "    else:\n",
    "        denumerators.append(1)\n",
    "\n",
    "\n",
    "for s in signs:\n",
    "    # определяем оператор действия с дробями\n",
    "    if s:\n",
    "        sign = s.strip()\n",
    "        break\n",
    "        \n",
    "get_NOK = NOK(denumerators[0], denumerators[1])\n",
    "\n",
    "for n in numerators:\n",
    "    # вычисляем новые числители по найденному НОК\n",
    "    numerators[i] = n * get_NOK / denumerators[i]\n",
    "    i += 1\n",
    "\n",
    "print('Результат вычисления ' + expres + ':')\n",
    "if sign == '+':\n",
    "    print(get_fract(sum(numerators), get_NOK))\n",
    "    \n",
    "elif sign == '-':\n",
    "    print(get_fract(diff(numerators), get_NOK))\n",
    "else:\n",
    "    print('Действие не определено, программа выполняет только сложение и вычитание')\n"
   ]
  },
  {
   "cell_type": "markdown",
   "metadata": {},
   "source": [
    "## #2"
   ]
  },
  {
   "cell_type": "code",
   "execution_count": 11,
   "metadata": {},
   "outputs": [
    {
     "data": {
      "text/html": [
       "<div>\n",
       "<style scoped>\n",
       "    .dataframe tbody tr th:only-of-type {\n",
       "        vertical-align: middle;\n",
       "    }\n",
       "\n",
       "    .dataframe tbody tr th {\n",
       "        vertical-align: top;\n",
       "    }\n",
       "\n",
       "    .dataframe thead th {\n",
       "        text-align: right;\n",
       "    }\n",
       "</style>\n",
       "<table border=\"1\" class=\"dataframe\">\n",
       "  <thead>\n",
       "    <tr style=\"text-align: right;\">\n",
       "      <th></th>\n",
       "      <th>Имя_x</th>\n",
       "      <th>Фамилия</th>\n",
       "      <th>Зарплата</th>\n",
       "      <th>Должность</th>\n",
       "      <th>Норма_часов</th>\n",
       "      <th>за1час</th>\n",
       "      <th>Отработано часов</th>\n",
       "      <th>Финал.оклад</th>\n",
       "    </tr>\n",
       "  </thead>\n",
       "  <tbody>\n",
       "    <tr>\n",
       "      <th>0</th>\n",
       "      <td>Петр</td>\n",
       "      <td>Алексеев</td>\n",
       "      <td>22000</td>\n",
       "      <td>прораб</td>\n",
       "      <td>140</td>\n",
       "      <td>157.0</td>\n",
       "      <td>120</td>\n",
       "      <td>18840.0</td>\n",
       "    </tr>\n",
       "    <tr>\n",
       "      <th>1</th>\n",
       "      <td>Василий</td>\n",
       "      <td>Иванов</td>\n",
       "      <td>18000</td>\n",
       "      <td>плотник</td>\n",
       "      <td>150</td>\n",
       "      <td>120.0</td>\n",
       "      <td>180</td>\n",
       "      <td>25200.0</td>\n",
       "    </tr>\n",
       "    <tr>\n",
       "      <th>2</th>\n",
       "      <td>Матвей</td>\n",
       "      <td>Бурин</td>\n",
       "      <td>42000</td>\n",
       "      <td>директор</td>\n",
       "      <td>150</td>\n",
       "      <td>280.0</td>\n",
       "      <td>160</td>\n",
       "      <td>47600.0</td>\n",
       "    </tr>\n",
       "    <tr>\n",
       "      <th>3</th>\n",
       "      <td>Василий</td>\n",
       "      <td>Сидоров</td>\n",
       "      <td>17500</td>\n",
       "      <td>плотник</td>\n",
       "      <td>140</td>\n",
       "      <td>125.0</td>\n",
       "      <td>122</td>\n",
       "      <td>15250.0</td>\n",
       "    </tr>\n",
       "    <tr>\n",
       "      <th>4</th>\n",
       "      <td>Петр</td>\n",
       "      <td>Дурин</td>\n",
       "      <td>20000</td>\n",
       "      <td>разнорабочий</td>\n",
       "      <td>160</td>\n",
       "      <td>125.0</td>\n",
       "      <td>80</td>\n",
       "      <td>10000.0</td>\n",
       "    </tr>\n",
       "    <tr>\n",
       "      <th>5</th>\n",
       "      <td>Альберт</td>\n",
       "      <td>Грибов</td>\n",
       "      <td>20000</td>\n",
       "      <td>разнорабочий</td>\n",
       "      <td>160</td>\n",
       "      <td>125.0</td>\n",
       "      <td>118</td>\n",
       "      <td>14750.0</td>\n",
       "    </tr>\n",
       "  </tbody>\n",
       "</table>\n",
       "</div>"
      ],
      "text/plain": [
       "     Имя_x   Фамилия  Зарплата     Должность  Норма_часов  за1час  \\\n",
       "0     Петр  Алексеев     22000        прораб          140   157.0   \n",
       "1  Василий    Иванов     18000       плотник          150   120.0   \n",
       "2   Матвей     Бурин     42000      директор          150   280.0   \n",
       "3  Василий   Сидоров     17500       плотник          140   125.0   \n",
       "4     Петр     Дурин     20000  разнорабочий          160   125.0   \n",
       "5  Альберт    Грибов     20000  разнорабочий          160   125.0   \n",
       "\n",
       "   Отработано часов  Финал.оклад  \n",
       "0               120      18840.0  \n",
       "1               180      25200.0  \n",
       "2               160      47600.0  \n",
       "3               122      15250.0  \n",
       "4                80      10000.0  \n",
       "5               118      14750.0  "
      ]
     },
     "execution_count": 11,
     "metadata": {},
     "output_type": "execute_result"
    }
   ],
   "source": [
    "# Задание-2:\n",
    "# Дана ведомость расчета заработной платы (файл \"data/workers\").\n",
    "# Рассчитайте зарплату всех работников, зная что они получат полный оклад,\n",
    "# если отработают норму часов. Если же они отработали меньше нормы,\n",
    "# то их ЗП уменьшается пропорционально, а за заждый час переработки\n",
    "# они получают удвоенную ЗП, пропорциональную норме.\n",
    "# Кол-во часов, которые были отработаны, указаны в файле \"data/hours_of\"\n",
    "\n",
    "import pandas as pd\n",
    "import numpy as np\n",
    "\n",
    "workers = pd.read_excel('workers.xlsx')\n",
    "hours_of = pd.read_excel('hours_of.xlsx')\n",
    "\n",
    "workers['за1час'] = round(workers['Зарплата']/workers['Норма_часов'])\n",
    "\n",
    "df =  pd.merge(workers,hours_of, how='inner',left_on='Фамилия', right_on='Фамилия')\n",
    "# df=pd.merge(energy,gdp,how='inner',left_on='Country', right_on='Country')\n",
    "df.drop(['Имя_y'], axis = 1, inplace = True)\n",
    "\n",
    "overtime = (-df.loc[:,'Норма_часов'] + df.loc[:,'Отработано часов'])*df.loc[:,'за1час']*2  + df.loc[:,'за1час']*df.loc[:,'Норма_часов']\n",
    "df['Финал.оклад'] = np.where(df.loc[:,'Отработано часов'] <= df.loc[:,'Норма_часов'], df.loc[:,'за1час']*df.loc[:,'Отработано часов'] , overtime)\n",
    "\n",
    "df"
   ]
  },
  {
   "cell_type": "markdown",
   "metadata": {},
   "source": [
    "## #3"
   ]
  },
  {
   "cell_type": "code",
   "execution_count": 12,
   "metadata": {},
   "outputs": [
    {
     "data": {
      "text/html": [
       "<div>\n",
       "<style scoped>\n",
       "    .dataframe tbody tr th:only-of-type {\n",
       "        vertical-align: middle;\n",
       "    }\n",
       "\n",
       "    .dataframe tbody tr th {\n",
       "        vertical-align: top;\n",
       "    }\n",
       "\n",
       "    .dataframe thead th {\n",
       "        text-align: right;\n",
       "    }\n",
       "</style>\n",
       "<table border=\"1\" class=\"dataframe\">\n",
       "  <thead>\n",
       "    <tr style=\"text-align: right;\">\n",
       "      <th></th>\n",
       "    </tr>\n",
       "  </thead>\n",
       "  <tbody>\n",
       "  </tbody>\n",
       "</table>\n",
       "</div>"
      ],
      "text/plain": [
       "Empty DataFrame\n",
       "Columns: []\n",
       "Index: []"
      ]
     },
     "execution_count": 12,
     "metadata": {},
     "output_type": "execute_result"
    }
   ],
   "source": [
    "\n",
    "# Задание-3:\n",
    "# Дан файл (\"data/fruits\") со списком фруктов.\n",
    "# Записать в новые файлы все фрукты, начинающиеся с определенной буквы.\n",
    "# Т.е. в одном файле будут все фрукты на букву “А”, во втором на “Б” и т.д.\n",
    "# Файлы назвать соответственно.\n",
    "# Пример имен файлов: fruits_А, fruits_Б, fruits_В ….\n",
    "# Важно! Обратите внимание, что нет фруктов, начинающихся с некоторых букв.\n",
    "# Напишите универсальный код, который будет работать с любым списком фруктов\n",
    "# и распределять по файлам в зависимости от первых букв, имеющихся в списке фруктов.\n",
    "# Подсказка:\n",
    "# Чтобы получить список больших букв русского алфавита:\n",
    "# print(list(map(chr, range(ord('А'), ord('Я')+1))))\n",
    "\n",
    "\n",
    "import pandas as pd\n",
    "import numpy as np\n",
    "\n",
    "df = pd.read_csv('fruits.txt', encoding = 'utf8', names = ['Фрукты'])\n",
    "df['first_letter'] = df['Фрукты'].astype(str).str[0]\n",
    "gp = df.groupby('first_letter')\n",
    "\n",
    "gp.apply(lambda x: x.to_csv('Фрукты' + str(x.name) + '.txt'))"
   ]
  },
  {
   "cell_type": "code",
   "execution_count": null,
   "metadata": {},
   "outputs": [],
   "source": []
  }
 ],
 "metadata": {
  "kernelspec": {
   "display_name": "Python 3",
   "language": "python",
   "name": "python3"
  },
  "language_info": {
   "codemirror_mode": {
    "name": "ipython",
    "version": 3
   },
   "file_extension": ".py",
   "mimetype": "text/x-python",
   "name": "python",
   "nbconvert_exporter": "python",
   "pygments_lexer": "ipython3",
   "version": "3.6.5"
  }
 },
 "nbformat": 4,
 "nbformat_minor": 2
}
